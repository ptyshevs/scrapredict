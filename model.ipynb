{
 "cells": [
  {
   "cell_type": "code",
   "execution_count": 1,
   "metadata": {},
   "outputs": [],
   "source": [
    "import numpy as np\n",
    "import pandas as pd"
   ]
  },
  {
   "cell_type": "code",
   "execution_count": 2,
   "metadata": {},
   "outputs": [],
   "source": [
    "df = pd.read_csv('cleaned_data.csv')\n",
    "# leaving only entries with salary\n",
    "df = df[~df.salary.isna()]"
   ]
  },
  {
   "cell_type": "code",
   "execution_count": 3,
   "metadata": {},
   "outputs": [],
   "source": [
    "import sklearn as sk\n",
    "from sklearn.model_selection import train_test_split\n",
    "from sklearn.preprocessing import OneHotEncoder"
   ]
  },
  {
   "cell_type": "code",
   "execution_count": 4,
   "metadata": {},
   "outputs": [
    {
     "data": {
      "text/html": [
       "<div>\n",
       "<style scoped>\n",
       "    .dataframe tbody tr th:only-of-type {\n",
       "        vertical-align: middle;\n",
       "    }\n",
       "\n",
       "    .dataframe tbody tr th {\n",
       "        vertical-align: top;\n",
       "    }\n",
       "\n",
       "    .dataframe thead th {\n",
       "        text-align: right;\n",
       "    }\n",
       "</style>\n",
       "<table border=\"1\" class=\"dataframe\">\n",
       "  <thead>\n",
       "    <tr style=\"text-align: right;\">\n",
       "      <th></th>\n",
       "      <th>vacancy_id</th>\n",
       "      <th>company</th>\n",
       "      <th>description</th>\n",
       "      <th>schedule</th>\n",
       "      <th>city</th>\n",
       "      <th>salary</th>\n",
       "    </tr>\n",
       "  </thead>\n",
       "  <tbody>\n",
       "    <tr>\n",
       "      <th>1</th>\n",
       "      <td>6118569</td>\n",
       "      <td>Мультиметод, ООО</td>\n",
       "      <td>международная школа восстановительной медицин...</td>\n",
       "      <td>полная занятость</td>\n",
       "      <td>Киев</td>\n",
       "      <td>20000.0</td>\n",
       "    </tr>\n",
       "    <tr>\n",
       "      <th>2</th>\n",
       "      <td>5148817</td>\n",
       "      <td>m1-shop.ru</td>\n",
       "      <td>компания m1-shop - рекламная сеть с одним из ...</td>\n",
       "      <td>удаленная работа</td>\n",
       "      <td>Киев</td>\n",
       "      <td>10300.0</td>\n",
       "    </tr>\n",
       "    <tr>\n",
       "      <th>5</th>\n",
       "      <td>7667113</td>\n",
       "      <td>Мозырь Украина</td>\n",
       "      <td>ведущий менеджер по оптовым продажам нефтепр...</td>\n",
       "      <td>полная занятость</td>\n",
       "      <td>Киев</td>\n",
       "      <td>30000.0</td>\n",
       "    </tr>\n",
       "    <tr>\n",
       "      <th>13</th>\n",
       "      <td>874023</td>\n",
       "      <td>Долфі-Україна</td>\n",
       "      <td>національна дистрибуційна компанія «долфі-укр...</td>\n",
       "      <td>полная занятость</td>\n",
       "      <td>Киев</td>\n",
       "      <td>12000.0</td>\n",
       "    </tr>\n",
       "    <tr>\n",
       "      <th>19</th>\n",
       "      <td>2618585</td>\n",
       "      <td>Макси Маркетинг, ООО</td>\n",
       "      <td>робота в представництві міжнародної фінансово...</td>\n",
       "      <td>полная занятость</td>\n",
       "      <td>Киев</td>\n",
       "      <td>20000.0</td>\n",
       "    </tr>\n",
       "  </tbody>\n",
       "</table>\n",
       "</div>"
      ],
      "text/plain": [
       "    vacancy_id               company  \\\n",
       "1      6118569      Мультиметод, ООО   \n",
       "2      5148817            m1-shop.ru   \n",
       "5      7667113        Мозырь Украина   \n",
       "13      874023         Долфі-Україна   \n",
       "19     2618585  Макси Маркетинг, ООО   \n",
       "\n",
       "                                          description          schedule  city  \\\n",
       "1    международная школа восстановительной медицин...  полная занятость  Киев   \n",
       "2    компания m1-shop - рекламная сеть с одним из ...  удаленная работа  Киев   \n",
       "5     ведущий менеджер по оптовым продажам нефтепр...  полная занятость  Киев   \n",
       "13   національна дистрибуційна компанія «долфі-укр...  полная занятость  Киев   \n",
       "19   робота в представництві міжнародної фінансово...  полная занятость  Киев   \n",
       "\n",
       "     salary  \n",
       "1   20000.0  \n",
       "2   10300.0  \n",
       "5   30000.0  \n",
       "13  12000.0  \n",
       "19  20000.0  "
      ]
     },
     "execution_count": 4,
     "metadata": {},
     "output_type": "execute_result"
    }
   ],
   "source": [
    "df.head()"
   ]
  },
  {
   "cell_type": "code",
   "execution_count": 5,
   "metadata": {},
   "outputs": [],
   "source": [
    "small_cities = df.city.value_counts().index[df.city.value_counts() < 10]\n",
    "df.city = df.city.apply(lambda x: 'Small city' if x in small_cities else x)"
   ]
  },
  {
   "cell_type": "code",
   "execution_count": 6,
   "metadata": {},
   "outputs": [],
   "source": [
    "city_ohe = OneHotEncoder()\n",
    "city_encoded = city_ohe.fit_transform(df.city.values.reshape(-1, 1)).todense()\n",
    "city_df = pd.DataFrame(city_encoded, columns=['city.'+cat for cat in city_ohe.categories_], index=df.index)"
   ]
  },
  {
   "cell_type": "code",
   "execution_count": 7,
   "metadata": {},
   "outputs": [],
   "source": [
    "schedule_ohe = OneHotEncoder()\n",
    "schedule_encoded = schedule_ohe.fit_transform(df.schedule.values.reshape(-1, 1)).todense()\n",
    "schedule_df = pd.DataFrame(schedule_encoded, columns=['schedule.'+cat for cat in schedule_ohe.categories_], index=df.index)"
   ]
  },
  {
   "cell_type": "code",
   "execution_count": 8,
   "metadata": {},
   "outputs": [],
   "source": [
    "small_companies = df.company.value_counts().index[df.company.value_counts() < 8]\n",
    "df.company = df.company.apply(lambda x: 'Noname' if x in small_companies else x)"
   ]
  },
  {
   "cell_type": "code",
   "execution_count": 9,
   "metadata": {},
   "outputs": [],
   "source": [
    "company_ohe = OneHotEncoder()\n",
    "company_encoded = company_ohe.fit_transform(df.company.values.reshape(-1, 1)).todense()\n",
    "company_df = pd.DataFrame(company_encoded, columns=['company.'+cat for cat in company_ohe.categories_], index=df.index)"
   ]
  },
  {
   "cell_type": "code",
   "execution_count": 10,
   "metadata": {},
   "outputs": [],
   "source": [
    "from sklearn.feature_extraction.text import HashingVectorizer, TfidfTransformer, TfidfVectorizer"
   ]
  },
  {
   "cell_type": "code",
   "execution_count": 11,
   "metadata": {},
   "outputs": [],
   "source": [
    "tf_idf = TfidfVectorizer()\n",
    "tf_idf_description = tf_idf.fit_transform(df.description)\n",
    "description_df = pd.DataFrame(tf_idf_description.todense(), index=df.index)"
   ]
  },
  {
   "cell_type": "code",
   "execution_count": 12,
   "metadata": {},
   "outputs": [],
   "source": [
    "feature_array = np.array(tf_idf.get_feature_names())"
   ]
  },
  {
   "cell_type": "code",
   "execution_count": 13,
   "metadata": {},
   "outputs": [],
   "source": [
    "indices = np.argsort(tf_idf.idf_)[::-1]\n",
    "features = np.array(tf_idf.get_feature_names())"
   ]
  },
  {
   "cell_type": "code",
   "execution_count": 14,
   "metadata": {},
   "outputs": [],
   "source": [
    "n = 50\n",
    "top_n = features[indices[:n]]"
   ]
  },
  {
   "cell_type": "code",
   "execution_count": 15,
   "metadata": {},
   "outputs": [
    {
     "data": {
      "text/plain": [
       "array(['взаємодієш', 'наполегливим', 'приведём', 'приведе', 'приватні',\n",
       "       'выросло', 'приватними', 'приватний', 'высвобождают', 'высланы',\n",
       "       'наполегливий', 'выслушает', 'привабливих', 'привели', 'высоки',\n",
       "       'приваблива', 'наполегливих', 'наполегливо', 'прибыльность',\n",
       "       'высококачественным', 'прибыльное', 'прибыльно',\n",
       "       'высококачественных', 'высококвалифицированного', 'привезены',\n",
       "       'приверженность', 'прибутку', 'наповненні', 'вырабатывать',\n",
       "       'привлекательный', 'выработанной', 'выражается',\n",
       "       'привлекательности', 'выражайся', 'привлекает', 'привлекаем',\n",
       "       'привилегии', 'выраженные', 'выразительным', 'привертати',\n",
       "       'вырастает', 'вырастают', 'вырастет', 'приветствия', 'вырастим',\n",
       "       'вырастут', 'приветливом', 'напоит', 'выращивания',\n",
       "       'привествуется'], dtype='<U75')"
      ]
     },
     "execution_count": 15,
     "metadata": {},
     "output_type": "execute_result"
    }
   ],
   "source": [
    "top_n"
   ]
  },
  {
   "cell_type": "code",
   "execution_count": 16,
   "metadata": {},
   "outputs": [],
   "source": [
    "train_df = pd.concat([city_df, schedule_df, company_df], axis=1)"
   ]
  },
  {
   "cell_type": "code",
   "execution_count": 17,
   "metadata": {},
   "outputs": [],
   "source": [
    "X_train, X_test, y_train, y_test = train_test_split(train_df, df.salary, test_size=0.25)"
   ]
  },
  {
   "cell_type": "code",
   "execution_count": 18,
   "metadata": {},
   "outputs": [
    {
     "data": {
      "text/plain": [
       "((1992, 80), (664, 80))"
      ]
     },
     "execution_count": 18,
     "metadata": {},
     "output_type": "execute_result"
    }
   ],
   "source": [
    "X_train.shape, X_test.shape"
   ]
  },
  {
   "cell_type": "code",
   "execution_count": 19,
   "metadata": {},
   "outputs": [],
   "source": [
    "from sklearn.ensemble import RandomForestRegressor\n",
    "rfr = RandomForestRegressor(100)\n",
    "rfr.fit(X_train, y_train)\n",
    "y_pred = rfr.predict(X_test)"
   ]
  },
  {
   "cell_type": "code",
   "execution_count": 20,
   "metadata": {},
   "outputs": [
    {
     "name": "stdout",
     "output_type": "stream",
     "text": [
      "r2_score: 0.21804289523158915, MAE: 4362.554254163258\n"
     ]
    }
   ],
   "source": [
    "from sklearn.metrics import r2_score, mean_absolute_error\n",
    "print(f\"r2_score: {r2_score(y_test, y_pred)}, MAE: {mean_absolute_error(y_test, y_pred)}\")"
   ]
  },
  {
   "cell_type": "code",
   "execution_count": 37,
   "metadata": {},
   "outputs": [],
   "source": [
    "X_train, X_test, y_train, y_test = train_test_split(description_df, df.salary, test_size=0.25)"
   ]
  },
  {
   "cell_type": "code",
   "execution_count": 38,
   "metadata": {},
   "outputs": [],
   "source": [
    "from sklearn.linear_model import Ridge"
   ]
  },
  {
   "cell_type": "code",
   "execution_count": 41,
   "metadata": {},
   "outputs": [],
   "source": [
    "ridge = Ridge()\n",
    "ridge.fit(X_train, y_train)\n",
    "y_pred = ridge.predict(X_test)"
   ]
  },
  {
   "cell_type": "code",
   "execution_count": 42,
   "metadata": {},
   "outputs": [
    {
     "name": "stdout",
     "output_type": "stream",
     "text": [
      "r2_score: 0.46467815839939397, MAE: 3759.765819584498\n"
     ]
    }
   ],
   "source": [
    "print(f\"r2_score: {r2_score(y_test, y_pred)}, MAE: {mean_absolute_error(y_test, y_pred)}\")"
   ]
  },
  {
   "cell_type": "code",
   "execution_count": 43,
   "metadata": {},
   "outputs": [],
   "source": [
    "combined_df = pd.concat([train_df, description_df], axis=1)"
   ]
  },
  {
   "cell_type": "code",
   "execution_count": 44,
   "metadata": {},
   "outputs": [],
   "source": [
    "X_train, X_test, y_train, y_test = train_test_split(combined_df, df.salary, test_size=0.25)"
   ]
  },
  {
   "cell_type": "code",
   "execution_count": 54,
   "metadata": {},
   "outputs": [],
   "source": [
    "ridge_all = Ridge(0.05)\n",
    "ridge_all.fit(X_train, y_train)\n",
    "y_pred = ridge_all.predict(X_test)"
   ]
  },
  {
   "cell_type": "code",
   "execution_count": 55,
   "metadata": {},
   "outputs": [
    {
     "name": "stdout",
     "output_type": "stream",
     "text": [
      "r2_score: 0.4721411814520189, MAE: 3333.5291729802625\n"
     ]
    }
   ],
   "source": [
    "print(f\"r2_score: {r2_score(y_test, y_pred)}, MAE: {mean_absolute_error(y_test, y_pred)}\")"
   ]
  },
  {
   "cell_type": "code",
   "execution_count": 56,
   "metadata": {},
   "outputs": [
    {
     "name": "stdout",
     "output_type": "stream",
     "text": [
      "True salary: 12000.0 | Predicted: 10354.724641123265\n",
      "True salary: 10000.0 | Predicted: 21201.704409688315\n",
      "True salary: 8000.0 | Predicted: 12594.049083234839\n",
      "True salary: 10000.0 | Predicted: 11666.082748608265\n",
      "True salary: 13000.0 | Predicted: 14919.80225536205\n",
      "True salary: 6000.0 | Predicted: 8048.954485650387\n",
      "True salary: 6000.0 | Predicted: 11212.153738043036\n",
      "True salary: 8000.0 | Predicted: 7728.053034598002\n",
      "True salary: 15000.0 | Predicted: 16201.48391144082\n",
      "True salary: 7000.0 | Predicted: 6364.576997247539\n",
      "True salary: 21759.0 | Predicted: 18759.17719023483\n",
      "True salary: 35000.0 | Predicted: 17544.29280038343\n",
      "True salary: 6000.0 | Predicted: 6046.8556258397475\n",
      "True salary: 12000.0 | Predicted: 13365.553872738361\n",
      "True salary: 6000.0 | Predicted: 6791.503222928202\n",
      "True salary: 30000.0 | Predicted: 21132.326355401266\n",
      "True salary: 8000.0 | Predicted: 12969.435820081713\n",
      "True salary: 8000.0 | Predicted: 7911.745019599317\n",
      "True salary: 5000.0 | Predicted: 13954.099423423702\n",
      "True salary: 15300.0 | Predicted: 15232.781630210618\n"
     ]
    }
   ],
   "source": [
    "for i in range(20):\n",
    "    print(f\"True salary: {y_test.values[i]} | Predicted: {y_pred[i]}\")"
   ]
  }
 ],
 "metadata": {
  "kernelspec": {
   "display_name": "Python 3",
   "language": "python",
   "name": "python3"
  },
  "language_info": {
   "codemirror_mode": {
    "name": "ipython",
    "version": 3
   },
   "file_extension": ".py",
   "mimetype": "text/x-python",
   "name": "python",
   "nbconvert_exporter": "python",
   "pygments_lexer": "ipython3",
   "version": "3.6.2"
  }
 },
 "nbformat": 4,
 "nbformat_minor": 2
}
